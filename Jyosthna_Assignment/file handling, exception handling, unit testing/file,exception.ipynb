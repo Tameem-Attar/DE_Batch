{
 "cells": [
  {
   "cell_type": "code",
   "execution_count": 13,
   "id": "ea0c5218",
   "metadata": {},
   "outputs": [
    {
     "name": "stdout",
     "output_type": "stream",
     "text": [
      "File With Name mumbai.txt Not Found\n"
     ]
    }
   ],
   "source": [
    "\n",
    "all_regions_data=open(\"C:\\\\Users\\\\SaiJyosthnaYenumula\\\\OneDrive - Blend 360\\\\Desktop\\\\COHORT10\\\\file handling, exception handling, unit testing\\\\files\\\\final_doc_file.txt\",\"w+\") \n",
    "def read_data_from_different_regions(region):\n",
    "    try:\n",
    "        region_data=open(f\"C:\\\\Users\\\\SaiJyosthnaYenumula\\\\OneDrive - Blend 360\\\\Desktop\\\\COHORT10\\\\file handling, exception handling, unit testing\\\\files\\\\{region}.txt\",\"r+\") \n",
    "        all_regions_data.write(region_data.read())\n",
    "        all_regions_data.write('\\n')\n",
    "        region_data.close()    \n",
    "    except FileNotFoundError:\n",
    "        print(f\"File With Name {region}.txt Not Found\")  \n",
    "    except PermissionError:\n",
    "        print(f\"Permissions denied for {region}.txt file\")  \n",
    "               \n",
    "regions=[\"bangalore\",\"hyderabad\",\"chennai\",\"kolkata\",\"mumbai\"] \n",
    "for data  in regions:\n",
    "    read_data_from_different_regions(data) \n",
    "all_regions_data.close()\n",
    "\n",
    "\n",
    "\n"
   ]
  }
 ],
 "metadata": {
  "kernelspec": {
   "display_name": "Python 3 (ipykernel)",
   "language": "python",
   "name": "python3"
  },
  "language_info": {
   "codemirror_mode": {
    "name": "ipython",
    "version": 3
   },
   "file_extension": ".py",
   "mimetype": "text/x-python",
   "name": "python",
   "nbconvert_exporter": "python",
   "pygments_lexer": "ipython3",
   "version": "3.10.9"
  }
 },
 "nbformat": 4,
 "nbformat_minor": 5
}
