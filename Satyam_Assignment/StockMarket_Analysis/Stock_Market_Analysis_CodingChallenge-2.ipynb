{
 "cells": [
  {
   "cell_type": "code",
   "execution_count": 1,
   "id": "7bee7127",
   "metadata": {},
   "outputs": [
    {
     "name": "stdout",
     "output_type": "stream",
     "text": [
      "Collecting yfinance\n",
      "  Downloading yfinance-0.2.14-py2.py3-none-any.whl (59 kB)\n",
      "     ---------------------------------------- 59.7/59.7 kB 1.6 MB/s eta 0:00:00\n",
      "Requirement already satisfied: cryptography>=3.3.2 in c:\\users\\satyamkumar\\anaconda3\\lib\\site-packages (from yfinance) (39.0.1)\n",
      "Collecting multitasking>=0.0.7\n",
      "  Downloading multitasking-0.0.11-py3-none-any.whl (8.5 kB)\n",
      "Requirement already satisfied: numpy>=1.16.5 in c:\\users\\satyamkumar\\anaconda3\\lib\\site-packages (from yfinance) (1.23.5)\n",
      "Collecting html5lib>=1.1\n",
      "  Downloading html5lib-1.1-py2.py3-none-any.whl (112 kB)\n",
      "     -------------------------------------- 112.2/112.2 kB 3.2 MB/s eta 0:00:00\n",
      "Requirement already satisfied: pandas>=1.3.0 in c:\\users\\satyamkumar\\anaconda3\\lib\\site-packages (from yfinance) (1.5.3)\n",
      "Collecting frozendict>=2.3.4\n",
      "  Downloading frozendict-2.3.6-cp310-cp310-win_amd64.whl (34 kB)\n",
      "Requirement already satisfied: pytz>=2022.5 in c:\\users\\satyamkumar\\anaconda3\\lib\\site-packages (from yfinance) (2022.7)\n",
      "Requirement already satisfied: lxml>=4.9.1 in c:\\users\\satyamkumar\\anaconda3\\lib\\site-packages (from yfinance) (4.9.1)\n",
      "Requirement already satisfied: requests>=2.26 in c:\\users\\satyamkumar\\anaconda3\\lib\\site-packages (from yfinance) (2.28.1)\n",
      "Requirement already satisfied: beautifulsoup4>=4.11.1 in c:\\users\\satyamkumar\\anaconda3\\lib\\site-packages (from yfinance) (4.11.1)\n",
      "Requirement already satisfied: appdirs>=1.4.4 in c:\\users\\satyamkumar\\anaconda3\\lib\\site-packages (from yfinance) (1.4.4)\n",
      "Requirement already satisfied: soupsieve>1.2 in c:\\users\\satyamkumar\\anaconda3\\lib\\site-packages (from beautifulsoup4>=4.11.1->yfinance) (2.3.2.post1)\n",
      "Requirement already satisfied: cffi>=1.12 in c:\\users\\satyamkumar\\anaconda3\\lib\\site-packages (from cryptography>=3.3.2->yfinance) (1.15.1)\n",
      "Requirement already satisfied: webencodings in c:\\users\\satyamkumar\\anaconda3\\lib\\site-packages (from html5lib>=1.1->yfinance) (0.5.1)\n",
      "Requirement already satisfied: six>=1.9 in c:\\users\\satyamkumar\\anaconda3\\lib\\site-packages (from html5lib>=1.1->yfinance) (1.16.0)\n",
      "Requirement already satisfied: python-dateutil>=2.8.1 in c:\\users\\satyamkumar\\anaconda3\\lib\\site-packages (from pandas>=1.3.0->yfinance) (2.8.2)\n",
      "Requirement already satisfied: certifi>=2017.4.17 in c:\\users\\satyamkumar\\anaconda3\\lib\\site-packages (from requests>=2.26->yfinance) (2022.12.7)\n",
      "Requirement already satisfied: urllib3<1.27,>=1.21.1 in c:\\users\\satyamkumar\\anaconda3\\lib\\site-packages (from requests>=2.26->yfinance) (1.26.14)\n",
      "Requirement already satisfied: idna<4,>=2.5 in c:\\users\\satyamkumar\\anaconda3\\lib\\site-packages (from requests>=2.26->yfinance) (3.4)\n",
      "Requirement already satisfied: charset-normalizer<3,>=2 in c:\\users\\satyamkumar\\anaconda3\\lib\\site-packages (from requests>=2.26->yfinance) (2.0.4)\n",
      "Requirement already satisfied: pycparser in c:\\users\\satyamkumar\\anaconda3\\lib\\site-packages (from cffi>=1.12->cryptography>=3.3.2->yfinance) (2.21)\n",
      "Installing collected packages: multitasking, html5lib, frozendict, yfinance\n",
      "Successfully installed frozendict-2.3.6 html5lib-1.1 multitasking-0.0.11 yfinance-0.2.14\n",
      "Note: you may need to restart the kernel to use updated packages.\n"
     ]
    }
   ],
   "source": [
    "pip install yfinance"
   ]
  },
  {
   "cell_type": "markdown",
   "id": "5eb5ed68",
   "metadata": {},
   "source": [
    "# Without using Market Indicators\n"
   ]
  },
  {
   "cell_type": "code",
   "execution_count": 1,
   "id": "f3e861d2",
   "metadata": {
    "scrolled": true
   },
   "outputs": [
    {
     "name": "stdout",
     "output_type": "stream",
     "text": [
      "[*********************100%***********************]  1 of 1 completed\n",
      "[*********************100%***********************]  1 of 1 completed\n",
      "[*********************100%***********************]  1 of 1 completed\n",
      "[*********************100%***********************]  1 of 1 completed\n",
      "[*********************100%***********************]  1 of 1 completed\n",
      "[*********************100%***********************]  1 of 1 completed\n",
      "[*********************100%***********************]  1 of 1 completed\n",
      "[*********************100%***********************]  1 of 1 completed\n",
      "[*********************100%***********************]  1 of 1 completed\n",
      "[*********************100%***********************]  1 of 1 completed\n",
      "[*********************100%***********************]  1 of 1 completed\n",
      "[*********************100%***********************]  1 of 1 completed\n",
      "Total Profit: INR 1919626.66\n"
     ]
    }
   ],
   "source": [
    "import yfinance as yf\n",
    "import pandas as pd\n",
    "\n",
    "# List of stock tickers to trade\n",
    "stocks = ['BHARTIARTL.NS', 'SBIN.NS', 'DRREDDY.NS', 'GSPL.NS', 'JSWSTEEL.NS', 'JSWENERGY.BO',\n",
    "          'RELIANCE.NS', 'YESBANK.NS', 'TATAMOTORS.NS', 'LAURUSLABS.NS', 'NTPC.NS', 'SAIL.BO']\n",
    "\n",
    "# the initial wallet amount\n",
    "wallet = 100000\n",
    "\n",
    "\n",
    "transactions = []\n",
    "\n",
    "for stock in stocks:\n",
    "    data = yf.download(stock, start=\"2015-01-01\", end=\"2022-12-31\")\n",
    "    data['Prev_Close'] = data['Close'].shift(1)\n",
    "    data = data.dropna()\n",
    "    \n",
    "    units = 0\n",
    "    for date, row in data.iterrows():\n",
    "        balance = wallet - (units * row['Open'])\n",
    "        if balance >= row['Open'] and row['Open'] < row['Prev_Close']:\n",
    "            # Buy stocks\n",
    "            num_units = int(balance / row['Open'])\n",
    "            units += num_units\n",
    "            wallet -= num_units * row['Open']\n",
    "            transactions.append([date.strftime('%Y-%m-%d'), stock, round(row['Open'], 2), 'BUY', num_units])\n",
    "            \n",
    "        elif units > 0 and (row['Open'] > row['Prev_Close'] or row['Close'] > row['Prev_Close']):\n",
    "            # Sell stocks\n",
    "            num_units = units\n",
    "            units = 0\n",
    "            wallet += num_units * row['Close'] * 0.95  # 5% transaction fee on selling\n",
    "            transactions.append([date.strftime('%Y-%m-%d'), stock, round(row['Close'], 2), 'SELL', num_units])\n",
    "            \n",
    "# Calculate the total profit earned by summing up the profits obtained from each transaction\n",
    "total_profit = sum([((transaction[2] * transaction[4]) * 0.95) if transaction[3] == 'SELL' else 0 for transaction in transactions])\n",
    "\n",
    "df = pd.DataFrame(transactions, columns=['Date', 'Stock', 'Transaction Price', 'Event', 'Total Units'])\n",
    "\n",
    "df.to_excel('stock_trading.xlsx', index=False)\n",
    "\n",
    "print(f'Total Profit: INR {round(total_profit, 2)}')\n"
   ]
  },
  {
   "cell_type": "markdown",
   "id": "650eb343",
   "metadata": {},
   "source": [
    "# Using Market Indicators"
   ]
  },
  {
   "cell_type": "code",
   "execution_count": 7,
   "id": "64610218",
   "metadata": {},
   "outputs": [
    {
     "name": "stdout",
     "output_type": "stream",
     "text": [
      "[*********************100%***********************]  1 of 1 completed\n",
      "[*********************100%***********************]  1 of 1 completed\n",
      "[*********************100%***********************]  1 of 1 completed\n",
      "[*********************100%***********************]  1 of 1 completed\n",
      "[*********************100%***********************]  1 of 1 completed\n",
      "[*********************100%***********************]  1 of 1 completed\n",
      "[*********************100%***********************]  1 of 1 completed\n",
      "[*********************100%***********************]  1 of 1 completed\n",
      "[*********************100%***********************]  1 of 1 completed\n",
      "[*********************100%***********************]  1 of 1 completed\n",
      "[*********************100%***********************]  1 of 1 completed\n",
      "[*********************100%***********************]  1 of 1 completed\n",
      "Total Profit: INR 1883855.54\n"
     ]
    }
   ],
   "source": [
    "import yfinance as yf\n",
    "import pandas as pd\n",
    "\n",
    "# List of stock tickers to trade\n",
    "stocks = ['BHARTIARTL.NS', 'SBIN.NS', 'DRREDDY.NS', 'GSPL.NS', 'JSWSTEEL.NS', 'JSWENERGY.BO',\n",
    "          'RELIANCE.NS', 'YESBANK.NS', 'TATAMOTORS.NS', 'LAURUSLABS.NS', 'NTPC.NS', 'SAIL.BO']\n",
    "\n",
    "# Set the initial wallet amount\n",
    "wallet = 100000\n",
    "\n",
    "# Initialize an empty list to store the transactions made during the trading journey\n",
    "transactions = []\n",
    "\n",
    "# Loop through the historical data of each stock and perform the trading strategy for each day\n",
    "for stock in stocks:\n",
    "    data = yf.download(stock, start=\"2015-01-01\", end=\"2022-12-31\")\n",
    "    data['Prev_Close'] = data['Close'].shift(1)\n",
    "    data = data.dropna()\n",
    "    \n",
    "    units = 0\n",
    "    for date, row in data.iterrows():\n",
    "        balance = wallet - (units * row['Open'])\n",
    "        \n",
    "        #  the 50-day moving average\n",
    "        if len(data.loc[:date]) >= 50:\n",
    "            ma = data.loc[:date]['Close'][-50:].mean()\n",
    "        else:\n",
    "            ma = 0\n",
    "        \n",
    "        if balance >= row['Open'] and row['Open'] < row['Prev_Close'] and row['Open'] > ma:\n",
    "            # Buy stocks\n",
    "            num_units = int(balance / row['Open'])\n",
    "            units += num_units\n",
    "            wallet -= num_units * row['Open']\n",
    "            transactions.append([date.strftime('%Y-%m-%d'), stock, round(row['Open'], 2), 'BUY', num_units])\n",
    "            \n",
    "        elif units > 0 and ((row['Open'] > row['Prev_Close'] and row['Open'] > ma) or row['Close'] > ma or row['Open'] < (ma * 0.9)):\n",
    "            # Sell stocks\n",
    "            num_units = units\n",
    "            units = 0\n",
    "            wallet += num_units * row['Close'] * 0.95  # 5% transaction fee on selling\n",
    "            transactions.append([date.strftime('%Y-%m-%d'), stock, round(row['Close'], 2), 'SELL', num_units])\n",
    "            \n",
    "        elif units > 0 and row['Open'] < (ma * 0.9):\n",
    "            # Sell stocks due to stop-loss condition\n",
    "            num_units = units\n",
    "            units = 0\n",
    "            wallet += num_units * row['Open'] * 0.95  # 5% transaction fee on selling\n",
    "            transactions.append([date.strftime('%Y-%m-%d'), stock, round(row['Open'], 2), 'SELL (STOP-LOSS)', num_units])\n",
    "\n",
    "# Calculate the total profit earned by summing up the profits obtained from each transaction\n",
    "total_profit = sum([((transaction[2] * transaction[4]) * 0.95) if transaction[3] == 'SELL' or transaction[3] == 'SELL (STOP-LOSS)' else 0 for transaction in transactions])\n",
    "\n",
    "\n",
    "df = pd.DataFrame(transactions, columns=['Date', 'Stock', 'Transaction Price', 'Event', 'Total Units'])\n",
    "\n",
    "\n",
    "df.to_excel('stock_trading2.xlsx', index=False)\n",
    "\n",
    "print(f'Total Profit: INR {round(total_profit, 2)}')\n"
   ]
  },
  {
   "cell_type": "code",
   "execution_count": null,
   "id": "c882da0b",
   "metadata": {},
   "outputs": [],
   "source": []
  }
 ],
 "metadata": {
  "kernelspec": {
   "display_name": "Python 3 (ipykernel)",
   "language": "python",
   "name": "python3"
  },
  "language_info": {
   "codemirror_mode": {
    "name": "ipython",
    "version": 3
   },
   "file_extension": ".py",
   "mimetype": "text/x-python",
   "name": "python",
   "nbconvert_exporter": "python",
   "pygments_lexer": "ipython3",
   "version": "3.10.9"
  }
 },
 "nbformat": 4,
 "nbformat_minor": 5
}
