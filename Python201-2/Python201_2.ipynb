{
  "nbformat": 4,
  "nbformat_minor": 0,
  "metadata": {
    "colab": {
      "provenance": []
    },
    "kernelspec": {
      "name": "python3",
      "display_name": "Python 3"
    },
    "language_info": {
      "name": "python"
    }
  },
  "cells": [
    {
      "cell_type": "code",
      "execution_count": null,
      "metadata": {
        "colab": {
          "base_uri": "https://localhost:8080/"
        },
        "id": "i_IzObQr7xym",
        "outputId": "d1c5b754-b10b-4e3b-de87-5827459ee5f3"
      },
      "outputs": [
        {
          "output_type": "stream",
          "name": "stdout",
          "text": [
            "Amount 500.0 deposited into your account. New balance is 1500.0\n",
            "Amount 500.0 withdrawn from your account. New balance is 1000.0\n",
            "Insufficient balance. Current balance is 1000.0\n"
          ]
        },
        {
          "output_type": "execute_result",
          "data": {
            "text/plain": [
              "1000.0"
            ]
          },
          "metadata": {},
          "execution_count": 1
        }
      ],
      "source": [
        "class BankAccount:\n",
        "    def __init__(self, account_number, account_holder_name, account_balance=0.0):\n",
        "        self.account_number = account_number\n",
        "        self.account_holder_name = account_holder_name\n",
        "        self.account_balance = account_balance\n",
        "\n",
        "    def deposit(self, amount):\n",
        "        self.account_balance += amount\n",
        "        print(f\"Amount {amount} deposited into your account. New balance is {self.account_balance}\")\n",
        "\n",
        "    def withdraw(self, amount):\n",
        "        if self.account_balance >= amount:\n",
        "            self.account_balance -= amount\n",
        "            print(f\"Amount {amount} withdrawn from your account. New balance is {self.account_balance}\")\n",
        "        else:\n",
        "            print(f\"Insufficient balance. Current balance is {self.account_balance}\")\n",
        "\n",
        "    def display_balance(self):\n",
        "        # print(\"Current balance is\",self.account_balance)\n",
        "        return self.account_balance\n",
        "\n",
        "\n",
        "account = BankAccount(123456, \"John\", 1000.0)\n",
        "account.deposit(500.0)\n",
        "account.withdraw(500.0)\n",
        "account.withdraw(1500.0)\n",
        "account.display_balance()\n"
      ]
    },
    {
      "cell_type": "code",
      "source": [
        "import unittest\n",
        "\n",
        "class TestBankAccount(unittest.TestCase):\n",
        "\n",
        "    def setUp(self):\n",
        "        self.account = BankAccount(123456, \"John Doe\", 1000.0)\n",
        "\n",
        "    def test_deposit(self):\n",
        "        self.account.deposit(500.0)\n",
        "        self.assertEqual(self.account.account_balance, 1500.0)\n",
        "\n",
        "    def test_withdraw_sufficient_balance(self):\n",
        "        self.account.withdraw(500.0)\n",
        "        self.assertEqual(self.account.account_balance, 500.0)\n",
        "\n",
        "    def test_withdraw_insufficient_balance(self):\n",
        "        self.account.withdraw(1500.0)\n",
        "        self.assertEqual(self.account.account_balance, 1000.0)\n",
        "\n",
        "    def test_display_balance(self):\n",
        "        self.assertEqual(self.account.display_balance(), 1000)\n",
        "\n",
        "\n",
        "if __name__ == '__main__':\n",
        "    unittest.main(argv=['first-arg-is-ignored'], exit=False)\n"
      ],
      "metadata": {
        "colab": {
          "base_uri": "https://localhost:8080/"
        },
        "id": "0-RGyxkl70hd",
        "outputId": "f5aaa8ec-d8b4-4b38-a128-94b5be63f6c3"
      },
      "execution_count": null,
      "outputs": [
        {
          "output_type": "stream",
          "name": "stderr",
          "text": [
            "....\n",
            "----------------------------------------------------------------------\n",
            "Ran 4 tests in 0.011s\n",
            "\n",
            "OK\n"
          ]
        },
        {
          "output_type": "stream",
          "name": "stdout",
          "text": [
            "Amount 500.0 deposited into your account. New balance is 1500.0\n",
            "Insufficient balance. Current balance is 1000.0\n",
            "Amount 500.0 withdrawn from your account. New balance is 500.0\n"
          ]
        }
      ]
    },
    {
      "cell_type": "code",
      "source": [],
      "metadata": {
        "id": "N0IlJ6S574M_"
      },
      "execution_count": null,
      "outputs": []
    }
  ]
}