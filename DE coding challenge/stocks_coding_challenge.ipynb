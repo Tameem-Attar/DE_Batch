{
 "cells": [
  {
   "cell_type": "code",
   "execution_count": 18,
   "id": "15bfdfb4",
   "metadata": {},
   "outputs": [
    {
     "name": "stdout",
     "output_type": "stream",
     "text": [
      "Requirement already satisfied: yfinance in c:\\users\\saimahendrareddyatlu\\anaconda3\\lib\\site-packages (0.2.14)\n",
      "Requirement already satisfied: appdirs>=1.4.4 in c:\\users\\saimahendrareddyatlu\\anaconda3\\lib\\site-packages (from yfinance) (1.4.4)\n",
      "Requirement already satisfied: multitasking>=0.0.7 in c:\\users\\saimahendrareddyatlu\\anaconda3\\lib\\site-packages (from yfinance) (0.0.11)\n",
      "Requirement already satisfied: requests>=2.26 in c:\\users\\saimahendrareddyatlu\\anaconda3\\lib\\site-packages (from yfinance) (2.28.1)\n",
      "Requirement already satisfied: frozendict>=2.3.4 in c:\\users\\saimahendrareddyatlu\\anaconda3\\lib\\site-packages (from yfinance) (2.3.6)\n",
      "Requirement already satisfied: beautifulsoup4>=4.11.1 in c:\\users\\saimahendrareddyatlu\\anaconda3\\lib\\site-packages (from yfinance) (4.11.1)\n",
      "Requirement already satisfied: html5lib>=1.1 in c:\\users\\saimahendrareddyatlu\\anaconda3\\lib\\site-packages (from yfinance) (1.1)\n",
      "Requirement already satisfied: pandas>=1.3.0 in c:\\users\\saimahendrareddyatlu\\anaconda3\\lib\\site-packages (from yfinance) (1.5.3)\n",
      "Requirement already satisfied: lxml>=4.9.1 in c:\\users\\saimahendrareddyatlu\\anaconda3\\lib\\site-packages (from yfinance) (4.9.1)\n",
      "Requirement already satisfied: numpy>=1.16.5 in c:\\users\\saimahendrareddyatlu\\anaconda3\\lib\\site-packages (from yfinance) (1.23.5)\n",
      "Requirement already satisfied: pytz>=2022.5 in c:\\users\\saimahendrareddyatlu\\anaconda3\\lib\\site-packages (from yfinance) (2022.7)\n",
      "Requirement already satisfied: cryptography>=3.3.2 in c:\\users\\saimahendrareddyatlu\\anaconda3\\lib\\site-packages (from yfinance) (39.0.1)\n",
      "Requirement already satisfied: soupsieve>1.2 in c:\\users\\saimahendrareddyatlu\\anaconda3\\lib\\site-packages (from beautifulsoup4>=4.11.1->yfinance) (2.3.2.post1)\n",
      "Requirement already satisfied: cffi>=1.12 in c:\\users\\saimahendrareddyatlu\\anaconda3\\lib\\site-packages (from cryptography>=3.3.2->yfinance) (1.15.1)\n",
      "Requirement already satisfied: webencodings in c:\\users\\saimahendrareddyatlu\\anaconda3\\lib\\site-packages (from html5lib>=1.1->yfinance) (0.5.1)\n",
      "Requirement already satisfied: six>=1.9 in c:\\users\\saimahendrareddyatlu\\anaconda3\\lib\\site-packages (from html5lib>=1.1->yfinance) (1.16.0)\n",
      "Requirement already satisfied: python-dateutil>=2.8.1 in c:\\users\\saimahendrareddyatlu\\anaconda3\\lib\\site-packages (from pandas>=1.3.0->yfinance) (2.8.2)\n",
      "Requirement already satisfied: charset-normalizer<3,>=2 in c:\\users\\saimahendrareddyatlu\\anaconda3\\lib\\site-packages (from requests>=2.26->yfinance) (2.0.4)\n",
      "Requirement already satisfied: idna<4,>=2.5 in c:\\users\\saimahendrareddyatlu\\anaconda3\\lib\\site-packages (from requests>=2.26->yfinance) (3.4)\n",
      "Requirement already satisfied: certifi>=2017.4.17 in c:\\users\\saimahendrareddyatlu\\anaconda3\\lib\\site-packages (from requests>=2.26->yfinance) (2022.12.7)\n",
      "Requirement already satisfied: urllib3<1.27,>=1.21.1 in c:\\users\\saimahendrareddyatlu\\anaconda3\\lib\\site-packages (from requests>=2.26->yfinance) (1.26.14)\n",
      "Requirement already satisfied: pycparser in c:\\users\\saimahendrareddyatlu\\anaconda3\\lib\\site-packages (from cffi>=1.12->cryptography>=3.3.2->yfinance) (2.21)\n",
      "Note: you may need to restart the kernel to use updated packages.\n"
     ]
    }
   ],
   "source": [
    "pip install yfinance"
   ]
  },
  {
   "cell_type": "code",
   "execution_count": 31,
   "id": "0b099a56",
   "metadata": {},
   "outputs": [],
   "source": [
    "import yfinance as yf\n",
    "import pandas as pd\n",
    "import numpy as np\n",
    "from functools import reduce"
   ]
  },
  {
   "cell_type": "code",
   "execution_count": 32,
   "id": "20f21761",
   "metadata": {},
   "outputs": [],
   "source": [
    "date_range = pd.date_range(start='2015-1-1', end='2022-12-31', freq='D')\n",
    "df1 = pd.DataFrame({'Date': date_range,'traded_date':date_range})"
   ]
  },
  {
   "cell_type": "code",
   "execution_count": 33,
   "id": "68465053",
   "metadata": {},
   "outputs": [
    {
     "name": "stdout",
     "output_type": "stream",
     "text": [
      "[*********************100%***********************]  1 of 1 completed\n",
      "[*********************100%***********************]  1 of 1 completed\n",
      "[*********************100%***********************]  1 of 1 completed\n",
      "[*********************100%***********************]  1 of 1 completed\n"
     ]
    },
    {
     "name": "stderr",
     "output_type": "stream",
     "text": [
      "C:\\Users\\SaiMahendraReddyAtlu\\AppData\\Local\\Temp\\ipykernel_31832\\1015243886.py:12: FutureWarning: Passing 'suffixes' which cause duplicate columns {'Close_x', 'Open_x'} in the result is deprecated and will raise a MergeError in a future version.\n",
      "  df_main=pd.merge(df_main,df,on=\"Date\",how=\"outer\")\n"
     ]
    },
    {
     "name": "stdout",
     "output_type": "stream",
     "text": [
      "[*********************100%***********************]  1 of 1 completed\n",
      "[*********************100%***********************]  1 of 1 completed\n"
     ]
    },
    {
     "name": "stderr",
     "output_type": "stream",
     "text": [
      "C:\\Users\\SaiMahendraReddyAtlu\\AppData\\Local\\Temp\\ipykernel_31832\\1015243886.py:12: FutureWarning: Passing 'suffixes' which cause duplicate columns {'Close_x', 'Open_x'} in the result is deprecated and will raise a MergeError in a future version.\n",
      "  df_main=pd.merge(df_main,df,on=\"Date\",how=\"outer\")\n"
     ]
    },
    {
     "name": "stdout",
     "output_type": "stream",
     "text": [
      "[*********************100%***********************]  1 of 1 completed\n",
      "[*********************100%***********************]  1 of 1 completed\n"
     ]
    },
    {
     "name": "stderr",
     "output_type": "stream",
     "text": [
      "C:\\Users\\SaiMahendraReddyAtlu\\AppData\\Local\\Temp\\ipykernel_31832\\1015243886.py:12: FutureWarning: Passing 'suffixes' which cause duplicate columns {'Close_x', 'Open_x'} in the result is deprecated and will raise a MergeError in a future version.\n",
      "  df_main=pd.merge(df_main,df,on=\"Date\",how=\"outer\")\n"
     ]
    },
    {
     "name": "stdout",
     "output_type": "stream",
     "text": [
      "[*********************100%***********************]  1 of 1 completed\n",
      "[*********************100%***********************]  1 of 1 completed\n"
     ]
    },
    {
     "name": "stderr",
     "output_type": "stream",
     "text": [
      "C:\\Users\\SaiMahendraReddyAtlu\\AppData\\Local\\Temp\\ipykernel_31832\\1015243886.py:12: FutureWarning: Passing 'suffixes' which cause duplicate columns {'Close_x', 'Open_x'} in the result is deprecated and will raise a MergeError in a future version.\n",
      "  df_main=pd.merge(df_main,df,on=\"Date\",how=\"outer\")\n"
     ]
    },
    {
     "name": "stdout",
     "output_type": "stream",
     "text": [
      "[*********************100%***********************]  1 of 1 completed\n",
      "[*********************100%***********************]  1 of 1 completed\n"
     ]
    },
    {
     "name": "stderr",
     "output_type": "stream",
     "text": [
      "C:\\Users\\SaiMahendraReddyAtlu\\AppData\\Local\\Temp\\ipykernel_31832\\1015243886.py:12: FutureWarning: Passing 'suffixes' which cause duplicate columns {'Close_x', 'Open_x'} in the result is deprecated and will raise a MergeError in a future version.\n",
      "  df_main=pd.merge(df_main,df,on=\"Date\",how=\"outer\")\n"
     ]
    },
    {
     "data": {
      "text/html": [
       "<div>\n",
       "<style scoped>\n",
       "    .dataframe tbody tr th:only-of-type {\n",
       "        vertical-align: middle;\n",
       "    }\n",
       "\n",
       "    .dataframe tbody tr th {\n",
       "        vertical-align: top;\n",
       "    }\n",
       "\n",
       "    .dataframe thead th {\n",
       "        text-align: right;\n",
       "    }\n",
       "</style>\n",
       "<table border=\"1\" class=\"dataframe\">\n",
       "  <thead>\n",
       "    <tr style=\"text-align: right;\">\n",
       "      <th></th>\n",
       "      <th>Open_x</th>\n",
       "      <th>Close_x</th>\n",
       "      <th>Open_y</th>\n",
       "      <th>Close_y</th>\n",
       "      <th>Open_x</th>\n",
       "      <th>Close_x</th>\n",
       "      <th>Open_y</th>\n",
       "      <th>Close_y</th>\n",
       "      <th>Open_x</th>\n",
       "      <th>Close_x</th>\n",
       "      <th>...</th>\n",
       "      <th>Close_y</th>\n",
       "      <th>Open_x</th>\n",
       "      <th>Close_x</th>\n",
       "      <th>Open_y</th>\n",
       "      <th>Close_y</th>\n",
       "      <th>Open_x</th>\n",
       "      <th>Close_x</th>\n",
       "      <th>Open_y</th>\n",
       "      <th>Close_y</th>\n",
       "      <th>traded_date</th>\n",
       "    </tr>\n",
       "  </thead>\n",
       "  <tbody>\n",
       "    <tr>\n",
       "      <th>0</th>\n",
       "      <td>325.402405</td>\n",
       "      <td>333.206940</td>\n",
       "      <td>312.450012</td>\n",
       "      <td>314.000000</td>\n",
       "      <td>3230.000000</td>\n",
       "      <td>3210.500000</td>\n",
       "      <td>114.449997</td>\n",
       "      <td>113.599998</td>\n",
       "      <td>104.889999</td>\n",
       "      <td>106.589996</td>\n",
       "      <td>...</td>\n",
       "      <td>154.509995</td>\n",
       "      <td>489.252289</td>\n",
       "      <td>493.160370</td>\n",
       "      <td>0.0</td>\n",
       "      <td>0.0</td>\n",
       "      <td>120.166664</td>\n",
       "      <td>118.708336</td>\n",
       "      <td>82.650002</td>\n",
       "      <td>82.650002</td>\n",
       "      <td>2015-01-01</td>\n",
       "    </tr>\n",
       "    <tr>\n",
       "      <th>1</th>\n",
       "      <td>334.033295</td>\n",
       "      <td>335.181000</td>\n",
       "      <td>314.350006</td>\n",
       "      <td>315.250000</td>\n",
       "      <td>3220.000000</td>\n",
       "      <td>3221.399902</td>\n",
       "      <td>113.300003</td>\n",
       "      <td>113.199997</td>\n",
       "      <td>107.010002</td>\n",
       "      <td>106.915001</td>\n",
       "      <td>...</td>\n",
       "      <td>158.440002</td>\n",
       "      <td>491.973083</td>\n",
       "      <td>506.368683</td>\n",
       "      <td>0.0</td>\n",
       "      <td>0.0</td>\n",
       "      <td>118.750000</td>\n",
       "      <td>120.333336</td>\n",
       "      <td>82.949997</td>\n",
       "      <td>82.800003</td>\n",
       "      <td>2015-01-02</td>\n",
       "    </tr>\n",
       "    <tr>\n",
       "      <th>2</th>\n",
       "      <td>336.282837</td>\n",
       "      <td>327.743774</td>\n",
       "      <td>316.250000</td>\n",
       "      <td>312.750000</td>\n",
       "      <td>3221.399902</td>\n",
       "      <td>3148.399902</td>\n",
       "      <td>112.699997</td>\n",
       "      <td>122.750000</td>\n",
       "      <td>106.915001</td>\n",
       "      <td>106.660004</td>\n",
       "      <td>...</td>\n",
       "      <td>158.779999</td>\n",
       "      <td>504.686737</td>\n",
       "      <td>518.241333</td>\n",
       "      <td>0.0</td>\n",
       "      <td>0.0</td>\n",
       "      <td>120.458336</td>\n",
       "      <td>120.000000</td>\n",
       "      <td>82.800003</td>\n",
       "      <td>82.599998</td>\n",
       "      <td>2015-01-05</td>\n",
       "    </tr>\n",
       "    <tr>\n",
       "      <th>3</th>\n",
       "      <td>326.963318</td>\n",
       "      <td>325.172882</td>\n",
       "      <td>310.000000</td>\n",
       "      <td>299.899994</td>\n",
       "      <td>3130.000000</td>\n",
       "      <td>3065.550049</td>\n",
       "      <td>123.000000</td>\n",
       "      <td>126.900002</td>\n",
       "      <td>105.410004</td>\n",
       "      <td>102.769997</td>\n",
       "      <td>...</td>\n",
       "      <td>154.330002</td>\n",
       "      <td>508.891632</td>\n",
       "      <td>496.079071</td>\n",
       "      <td>0.0</td>\n",
       "      <td>0.0</td>\n",
       "      <td>119.583336</td>\n",
       "      <td>116.000000</td>\n",
       "      <td>82.099998</td>\n",
       "      <td>78.550003</td>\n",
       "      <td>2015-01-06</td>\n",
       "    </tr>\n",
       "    <tr>\n",
       "      <th>4</th>\n",
       "      <td>323.152863</td>\n",
       "      <td>325.953308</td>\n",
       "      <td>300.000000</td>\n",
       "      <td>300.149994</td>\n",
       "      <td>3075.100098</td>\n",
       "      <td>3039.199951</td>\n",
       "      <td>129.000000</td>\n",
       "      <td>124.500000</td>\n",
       "      <td>101.599998</td>\n",
       "      <td>101.184998</td>\n",
       "      <td>...</td>\n",
       "      <td>151.470001</td>\n",
       "      <td>489.746979</td>\n",
       "      <td>488.609192</td>\n",
       "      <td>0.0</td>\n",
       "      <td>0.0</td>\n",
       "      <td>117.083336</td>\n",
       "      <td>118.791664</td>\n",
       "      <td>78.599998</td>\n",
       "      <td>78.000000</td>\n",
       "      <td>2015-01-07</td>\n",
       "    </tr>\n",
       "  </tbody>\n",
       "</table>\n",
       "<p>5 rows × 25 columns</p>\n",
       "</div>"
      ],
      "text/plain": [
       "       Open_x     Close_x      Open_y     Close_y       Open_x      Close_x  \\\n",
       "0  325.402405  333.206940  312.450012  314.000000  3230.000000  3210.500000   \n",
       "1  334.033295  335.181000  314.350006  315.250000  3220.000000  3221.399902   \n",
       "2  336.282837  327.743774  316.250000  312.750000  3221.399902  3148.399902   \n",
       "3  326.963318  325.172882  310.000000  299.899994  3130.000000  3065.550049   \n",
       "4  323.152863  325.953308  300.000000  300.149994  3075.100098  3039.199951   \n",
       "\n",
       "       Open_y     Close_y      Open_x     Close_x  ...     Close_y  \\\n",
       "0  114.449997  113.599998  104.889999  106.589996  ...  154.509995   \n",
       "1  113.300003  113.199997  107.010002  106.915001  ...  158.440002   \n",
       "2  112.699997  122.750000  106.915001  106.660004  ...  158.779999   \n",
       "3  123.000000  126.900002  105.410004  102.769997  ...  154.330002   \n",
       "4  129.000000  124.500000  101.599998  101.184998  ...  151.470001   \n",
       "\n",
       "       Open_x     Close_x  Open_y  Close_y      Open_x     Close_x     Open_y  \\\n",
       "0  489.252289  493.160370     0.0      0.0  120.166664  118.708336  82.650002   \n",
       "1  491.973083  506.368683     0.0      0.0  118.750000  120.333336  82.949997   \n",
       "2  504.686737  518.241333     0.0      0.0  120.458336  120.000000  82.800003   \n",
       "3  508.891632  496.079071     0.0      0.0  119.583336  116.000000  82.099998   \n",
       "4  489.746979  488.609192     0.0      0.0  117.083336  118.791664  78.599998   \n",
       "\n",
       "     Close_y  traded_date  \n",
       "0  82.650002   2015-01-01  \n",
       "1  82.800003   2015-01-02  \n",
       "2  82.599998   2015-01-05  \n",
       "3  78.550003   2015-01-06  \n",
       "4  78.000000   2015-01-07  \n",
       "\n",
       "[5 rows x 25 columns]"
      ]
     },
     "execution_count": 33,
     "metadata": {},
     "output_type": "execute_result"
    }
   ],
   "source": [
    "stock_names=[\"SBIN.NS\",\"DRREDDY.NS\",\"GSPL.NS\",\"JSWSTEEL.NS\",\"JSWENERGY.BO\",\n",
    "              \"RELIANCE.NS\",\"YESBANK.NS\",\"TATAMOTORS.NS\",\"LAURUSLABS.NS\",\"NTPC.NS\",\"SAIL.BO\"]\n",
    "data = yf.download(\"BHARTIARTL.NS\", start=\"2015-01-01\", end=\"2021-12-31\")\n",
    "df = pd.DataFrame(data)\n",
    "df=df.drop([\"High\",\"Low\",\"Adj Close\",\"Volume\"],axis=1)\n",
    "df_main=pd.DataFrame()\n",
    "df_main=df\n",
    "for i in stock_names:\n",
    "    data = yf.download(i, start=\"2015-01-01\", end=\"2021-12-31\")\n",
    "    df = pd.DataFrame(data)\n",
    "    df=df.drop([\"High\",\"Low\",\"Adj Close\",\"Volume\"],axis=1)\n",
    "    df_main=pd.merge(df_main,df,on=\"Date\",how=\"outer\")\n",
    "df_main['Open_x'] = df_main['Open_x'].fillna(0)\n",
    "df_main['Close_x'] = df_main['Close_x'].fillna(0)\n",
    "df_main['Open_y'] = df_main['Open_y'].fillna(0)\n",
    "df_main['Close_y'] = df_main['Close_y'].fillna(0)\n",
    "df_main=pd.merge(df_main,df1,on=\"Date\",how=\"outer\")\n",
    "df_main=df_main.drop([\"Date\"],axis=1)\n",
    "df_main.head()"
   ]
  },
  {
   "cell_type": "code",
   "execution_count": 39,
   "id": "eccd0848",
   "metadata": {},
   "outputs": [
    {
     "name": "stdout",
     "output_type": "stream",
     "text": [
      "Index(['Open_x', 'Close_x', 'Open_y', 'Close_y', 'Open_x', 'Close_x', 'Open_y',\n",
      "       'Close_y', 'Open_x', 'Close_x', 'Open_y', 'Close_y', 'Open_x',\n",
      "       'Close_x', 'Open_y', 'Close_y', 'Open_x', 'Close_x', 'Open_y',\n",
      "       'Close_y', 'Open_x', 'Close_x', 'Open_y', 'Close_y', 'traded_date'],\n",
      "      dtype='object')\n"
     ]
    }
   ],
   "source": [
    "print(df_main.columns)\n",
    "dic={\n",
    "        'Date':[],'Name':[],\n",
    "        'Transaction':[],'Event':[],'Units':[]\n",
    "       }\n",
    "df_result=pd.DataFrame(dic)\n",
    "stock_name=[\"BHARTIARTL.NS\",\"SBIN.NS\",\"DRREDDY.NS\",\"GSPL.NS\",\"JSWSTEEL.NS\",\"JSWENERGY.BO\",\n",
    "              \"RELIANCE.NS\",\"YESBANK.NS\",\"TATAMOTORS.NS\",\"LAURUSLABS.NS\",\"NTPC.NS\",\"SAIL.BO\"]"
   ]
  },
  {
   "cell_type": "code",
   "execution_count": 40,
   "id": "5a0d7d75",
   "metadata": {},
   "outputs": [
    {
     "name": "stdout",
     "output_type": "stream",
     "text": [
      "351391510.5643487\n"
     ]
    }
   ],
   "source": [
    "amount=100000\n",
    "for i in range(1,len(df_main)):\n",
    "    b_Date=df_main.loc[i-1,'traded_date']\n",
    "    t_Date=df_main.loc[i,'traded_date']\n",
    "    profit1=[]\n",
    "    for j in range(0,24,2):\n",
    "        cp=df_main.iloc[i-1,j+1]\n",
    "        sp=df_main.iloc[i,j]\n",
    "        if cp<1 or sp<1:\n",
    "            continue\n",
    "        shares=amount//cp\n",
    "        selling_price=(shares*sp) + (amount%cp) -(0.05*shares*sp)\n",
    "        if selling_price > amount:\n",
    "            profit1.append([selling_price,stock_name[j//2],shares])\n",
    "    profit1=sorted(profit1,reverse=True)\n",
    "    if len(profit1)!=0:\n",
    "        df_result.loc[len(df_result.index)] =[b_Date,profit1[0][1],\"Close\",\"Buy\",profit1[0][2]]\n",
    "        df_result.loc[len(df_result.index)] =[t_Date,profit1[0][1],\"Open\",\"Sell\",profit1[0][2]]\n",
    "        amount=profit1[0][0]\n",
    "        \n",
    "\n",
    "    profit2=[]\n",
    "    for j in range(0,24,2):\n",
    "        cp=df_main.iloc[i,j]\n",
    "        sp=df_main.iloc[i,j+1]\n",
    "        if cp<1 or sp<1:\n",
    "            continue\n",
    "        shares=amount//cp\n",
    "        selling_price=(shares*sp) + (amount%cp) -(0.05*shares*sp)\n",
    "        if selling_price > amount:\n",
    "            profit2.append([selling_price,stock_name[j//2],shares])\n",
    "    profit2=sorted(profit2,reverse=True)\n",
    "    if len(profit2)!=0:\n",
    "        df_result.loc[len(df_result.index)] =[t_Date,profit2[0][1],\"Open\",\"Buy\",profit2[0][2]]\n",
    "        df_result.loc[len(df_result.index)] =[t_Date,profit2[0][1],\"Close\",\"Sell\",profit2[0][2]]\n",
    "        amount=profit2[0][0]\n",
    "print(amount)"
   ]
  },
  {
   "cell_type": "code",
   "execution_count": 41,
   "id": "dbe062d3",
   "metadata": {},
   "outputs": [
    {
     "name": "stdout",
     "output_type": "stream",
     "text": [
      "          Date           Name Transaction Event      Units\n",
      "0   2015-01-05        GSPL.NS        Open   Buy      887.0\n",
      "1   2015-01-05        GSPL.NS       Close  Sell      887.0\n",
      "2   2015-02-13        SBIN.NS        Open   Buy      359.0\n",
      "3   2015-02-13        SBIN.NS       Close  Sell      359.0\n",
      "4   2015-02-19    JSWSTEEL.NS        Open   Buy     1070.0\n",
      "..         ...            ...         ...   ...        ...\n",
      "637 2021-11-25  LAURUSLABS.NS       Close  Sell   677778.0\n",
      "638 2021-12-02   JSWENERGY.BO        Open   Buy  1148376.0\n",
      "639 2021-12-02   JSWENERGY.BO       Close  Sell  1148376.0\n",
      "640 2021-12-10        SAIL.BO       Close   Buy  3082381.0\n",
      "641 2021-12-13        SAIL.BO        Open  Sell  3082381.0\n",
      "\n",
      "[642 rows x 5 columns]\n"
     ]
    }
   ],
   "source": [
    "print(df_result)"
   ]
  },
  {
   "cell_type": "code",
   "execution_count": null,
   "id": "0704711b",
   "metadata": {},
   "outputs": [],
   "source": []
  }
 ],
 "metadata": {},
 "nbformat": 4,
 "nbformat_minor": 5
}
