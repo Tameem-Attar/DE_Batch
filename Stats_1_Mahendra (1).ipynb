{
 "cells": [
  {
   "cell_type": "code",
   "execution_count": 20,
   "id": "a865b604",
   "metadata": {},
   "outputs": [],
   "source": [
    "import numpy as np\n",
    "import pandas as pd\n",
    "import scipy.stats as stats\n",
    "import statsmodels.stats.api as sms\n",
    "import matplotlib as mpl\n",
    "import matplotlib.pyplot as plt\n",
    "import seaborn as sns\n",
    "from datetime import datetime\n",
    "import warnings\n",
    "warnings.filterwarnings('ignore')\n",
    "warnings.filterwarnings('default')"
   ]
  },
  {
   "cell_type": "markdown",
   "id": "104b4efa",
   "metadata": {},
   "source": [
    "## How long does it take for the video to get trending ?"
   ]
  },
  {
   "cell_type": "code",
   "execution_count": 47,
   "id": "9a570c69",
   "metadata": {},
   "outputs": [],
   "source": [
    "import pandas as pd\n",
    "df=pd.read_csv(\"C:/Users/SaiMahendraReddyAtlu/Downloads/Videos1.csv\")"
   ]
  },
  {
   "cell_type": "code",
   "execution_count": 6,
   "id": "e86405f9",
   "metadata": {},
   "outputs": [],
   "source": [
    "df['trending_date'] = pd.to_datetime(df['trending_date'], format='%y.%d.%m')\n",
    "df['publish_time']=df['publish_time'].map(lambda x: x.split('T')[0])\n",
    "df['publish_time'] = pd.to_datetime(df['publish_time'], format='%Y-%m-%d')"
   ]
  },
  {
   "cell_type": "code",
   "execution_count": 25,
   "id": "b5b1f474",
   "metadata": {},
   "outputs": [],
   "source": [
    "df['days_to_trend']=df['trending_date']-df['publish_time']"
   ]
  },
  {
   "cell_type": "code",
   "execution_count": 15,
   "id": "e02538e3",
   "metadata": {},
   "outputs": [],
   "source": [
    "df['days_to_trend'] = df['days_to_trend'].dt.days"
   ]
  },
  {
   "cell_type": "code",
   "execution_count": 16,
   "id": "df58cc1d",
   "metadata": {
    "scrolled": true
   },
   "outputs": [
    {
     "data": {
      "text/html": [
       "<div>\n",
       "<style scoped>\n",
       "    .dataframe tbody tr th:only-of-type {\n",
       "        vertical-align: middle;\n",
       "    }\n",
       "\n",
       "    .dataframe tbody tr th {\n",
       "        vertical-align: top;\n",
       "    }\n",
       "\n",
       "    .dataframe thead th {\n",
       "        text-align: right;\n",
       "    }\n",
       "</style>\n",
       "<table border=\"1\" class=\"dataframe\">\n",
       "  <thead>\n",
       "    <tr style=\"text-align: right;\">\n",
       "      <th></th>\n",
       "      <th>video_id</th>\n",
       "      <th>trending_date</th>\n",
       "      <th>title</th>\n",
       "      <th>channel_title</th>\n",
       "      <th>category_id</th>\n",
       "      <th>publish_time</th>\n",
       "      <th>tags</th>\n",
       "      <th>views</th>\n",
       "      <th>likes</th>\n",
       "      <th>dislikes</th>\n",
       "      <th>comment_count</th>\n",
       "      <th>thumbnail_link</th>\n",
       "      <th>comments_disabled</th>\n",
       "      <th>ratings_disabled</th>\n",
       "      <th>video_error_or_removed</th>\n",
       "      <th>description</th>\n",
       "      <th>days_to_trend</th>\n",
       "    </tr>\n",
       "  </thead>\n",
       "  <tbody>\n",
       "    <tr>\n",
       "      <th>0</th>\n",
       "      <td>n1WpP7iowLc</td>\n",
       "      <td>2017-11-14</td>\n",
       "      <td>Eminem - Walk On Water (Audio) ft. Beyoncé</td>\n",
       "      <td>EminemVEVO</td>\n",
       "      <td>10</td>\n",
       "      <td>2017-11-10</td>\n",
       "      <td>Eminem|\"Walk\"|\"On\"|\"Water\"|\"Aftermath/Shady/In...</td>\n",
       "      <td>17158579</td>\n",
       "      <td>787425</td>\n",
       "      <td>43420</td>\n",
       "      <td>125882</td>\n",
       "      <td>https://i.ytimg.com/vi/n1WpP7iowLc/default.jpg</td>\n",
       "      <td>False</td>\n",
       "      <td>False</td>\n",
       "      <td>False</td>\n",
       "      <td>Eminem's new track Walk on Water ft. Beyoncé i...</td>\n",
       "      <td>4</td>\n",
       "    </tr>\n",
       "    <tr>\n",
       "      <th>1</th>\n",
       "      <td>0dBIkQ4Mz1M</td>\n",
       "      <td>2017-11-14</td>\n",
       "      <td>PLUSH - Bad Unboxing Fan Mail</td>\n",
       "      <td>iDubbbzTV</td>\n",
       "      <td>23</td>\n",
       "      <td>2017-11-13</td>\n",
       "      <td>plush|\"bad unboxing\"|\"unboxing\"|\"fan mail\"|\"id...</td>\n",
       "      <td>1014651</td>\n",
       "      <td>127794</td>\n",
       "      <td>1688</td>\n",
       "      <td>13030</td>\n",
       "      <td>https://i.ytimg.com/vi/0dBIkQ4Mz1M/default.jpg</td>\n",
       "      <td>False</td>\n",
       "      <td>False</td>\n",
       "      <td>False</td>\n",
       "      <td>STill got a lot of packages. Probably will las...</td>\n",
       "      <td>1</td>\n",
       "    </tr>\n",
       "    <tr>\n",
       "      <th>2</th>\n",
       "      <td>5qpjK5DgCt4</td>\n",
       "      <td>2017-11-14</td>\n",
       "      <td>Racist Superman | Rudy Mancuso, King Bach &amp; Le...</td>\n",
       "      <td>Rudy Mancuso</td>\n",
       "      <td>23</td>\n",
       "      <td>2017-11-12</td>\n",
       "      <td>racist superman|\"rudy\"|\"mancuso\"|\"king\"|\"bach\"...</td>\n",
       "      <td>3191434</td>\n",
       "      <td>146035</td>\n",
       "      <td>5339</td>\n",
       "      <td>8181</td>\n",
       "      <td>https://i.ytimg.com/vi/5qpjK5DgCt4/default.jpg</td>\n",
       "      <td>False</td>\n",
       "      <td>False</td>\n",
       "      <td>False</td>\n",
       "      <td>WATCH MY PREVIOUS VIDEO ▶ \\n\\nSUBSCRIBE ► http...</td>\n",
       "      <td>2</td>\n",
       "    </tr>\n",
       "    <tr>\n",
       "      <th>3</th>\n",
       "      <td>d380meD0W0M</td>\n",
       "      <td>2017-11-14</td>\n",
       "      <td>I Dare You: GOING BALD!?</td>\n",
       "      <td>nigahiga</td>\n",
       "      <td>24</td>\n",
       "      <td>2017-11-12</td>\n",
       "      <td>ryan|\"higa\"|\"higatv\"|\"nigahiga\"|\"i dare you\"|\"...</td>\n",
       "      <td>2095828</td>\n",
       "      <td>132239</td>\n",
       "      <td>1989</td>\n",
       "      <td>17518</td>\n",
       "      <td>https://i.ytimg.com/vi/d380meD0W0M/default.jpg</td>\n",
       "      <td>False</td>\n",
       "      <td>False</td>\n",
       "      <td>False</td>\n",
       "      <td>I know it's been a while since we did this sho...</td>\n",
       "      <td>2</td>\n",
       "    </tr>\n",
       "    <tr>\n",
       "      <th>4</th>\n",
       "      <td>2Vv-BfVoq4g</td>\n",
       "      <td>2017-11-14</td>\n",
       "      <td>Ed Sheeran - Perfect (Official Music Video)</td>\n",
       "      <td>Ed Sheeran</td>\n",
       "      <td>10</td>\n",
       "      <td>2017-11-09</td>\n",
       "      <td>edsheeran|\"ed sheeran\"|\"acoustic\"|\"live\"|\"cove...</td>\n",
       "      <td>33523622</td>\n",
       "      <td>1634130</td>\n",
       "      <td>21082</td>\n",
       "      <td>85067</td>\n",
       "      <td>https://i.ytimg.com/vi/2Vv-BfVoq4g/default.jpg</td>\n",
       "      <td>False</td>\n",
       "      <td>False</td>\n",
       "      <td>False</td>\n",
       "      <td>🎧: https://ad.gt/yt-perfect\\n💰: https://atlant...</td>\n",
       "      <td>5</td>\n",
       "    </tr>\n",
       "  </tbody>\n",
       "</table>\n",
       "</div>"
      ],
      "text/plain": [
       "      video_id trending_date  \\\n",
       "0  n1WpP7iowLc    2017-11-14   \n",
       "1  0dBIkQ4Mz1M    2017-11-14   \n",
       "2  5qpjK5DgCt4    2017-11-14   \n",
       "3  d380meD0W0M    2017-11-14   \n",
       "4  2Vv-BfVoq4g    2017-11-14   \n",
       "\n",
       "                                               title channel_title  \\\n",
       "0         Eminem - Walk On Water (Audio) ft. Beyoncé    EminemVEVO   \n",
       "1                      PLUSH - Bad Unboxing Fan Mail     iDubbbzTV   \n",
       "2  Racist Superman | Rudy Mancuso, King Bach & Le...  Rudy Mancuso   \n",
       "3                           I Dare You: GOING BALD!?      nigahiga   \n",
       "4        Ed Sheeran - Perfect (Official Music Video)    Ed Sheeran   \n",
       "\n",
       "   category_id publish_time  \\\n",
       "0           10   2017-11-10   \n",
       "1           23   2017-11-13   \n",
       "2           23   2017-11-12   \n",
       "3           24   2017-11-12   \n",
       "4           10   2017-11-09   \n",
       "\n",
       "                                                tags     views    likes  \\\n",
       "0  Eminem|\"Walk\"|\"On\"|\"Water\"|\"Aftermath/Shady/In...  17158579   787425   \n",
       "1  plush|\"bad unboxing\"|\"unboxing\"|\"fan mail\"|\"id...   1014651   127794   \n",
       "2  racist superman|\"rudy\"|\"mancuso\"|\"king\"|\"bach\"...   3191434   146035   \n",
       "3  ryan|\"higa\"|\"higatv\"|\"nigahiga\"|\"i dare you\"|\"...   2095828   132239   \n",
       "4  edsheeran|\"ed sheeran\"|\"acoustic\"|\"live\"|\"cove...  33523622  1634130   \n",
       "\n",
       "   dislikes  comment_count                                  thumbnail_link  \\\n",
       "0     43420         125882  https://i.ytimg.com/vi/n1WpP7iowLc/default.jpg   \n",
       "1      1688          13030  https://i.ytimg.com/vi/0dBIkQ4Mz1M/default.jpg   \n",
       "2      5339           8181  https://i.ytimg.com/vi/5qpjK5DgCt4/default.jpg   \n",
       "3      1989          17518  https://i.ytimg.com/vi/d380meD0W0M/default.jpg   \n",
       "4     21082          85067  https://i.ytimg.com/vi/2Vv-BfVoq4g/default.jpg   \n",
       "\n",
       "   comments_disabled  ratings_disabled  video_error_or_removed  \\\n",
       "0              False             False                   False   \n",
       "1              False             False                   False   \n",
       "2              False             False                   False   \n",
       "3              False             False                   False   \n",
       "4              False             False                   False   \n",
       "\n",
       "                                         description  days_to_trend  \n",
       "0  Eminem's new track Walk on Water ft. Beyoncé i...              4  \n",
       "1  STill got a lot of packages. Probably will las...              1  \n",
       "2  WATCH MY PREVIOUS VIDEO ▶ \\n\\nSUBSCRIBE ► http...              2  \n",
       "3  I know it's been a while since we did this sho...              2  \n",
       "4  🎧: https://ad.gt/yt-perfect\\n💰: https://atlant...              5  "
      ]
     },
     "execution_count": 16,
     "metadata": {},
     "output_type": "execute_result"
    }
   ],
   "source": [
    "df.head()"
   ]
  },
  {
   "cell_type": "code",
   "execution_count": 44,
   "id": "6d15d692",
   "metadata": {},
   "outputs": [
    {
     "data": {
      "text/plain": [
       "count                         40881\n",
       "mean      3 days 11:33:21.174139575\n",
       "std      59 days 17:39:47.737220210\n",
       "min                 0 days 00:00:00\n",
       "25%                 1 days 00:00:00\n",
       "50%                 1 days 00:00:00\n",
       "75%                 2 days 00:00:00\n",
       "max              3658 days 00:00:00\n",
       "Name: days_to_trend, dtype: object"
      ]
     },
     "execution_count": 44,
     "metadata": {},
     "output_type": "execute_result"
    }
   ],
   "source": [
    "df['days_to_trend'].describe()"
   ]
  },
  {
   "cell_type": "markdown",
   "id": "26879227",
   "metadata": {},
   "source": [
    "On an average It takes 3 days for a video to get trended."
   ]
  },
  {
   "cell_type": "markdown",
   "id": "f4f93923",
   "metadata": {},
   "source": [
    "## How is this duration changes across the two years ?"
   ]
  },
  {
   "cell_type": "code",
   "execution_count": 49,
   "id": "7cff8653",
   "metadata": {
    "scrolled": true
   },
   "outputs": [
    {
     "data": {
      "text/plain": [
       "Text(0, 0.5, 'Number of days to get Trending')"
      ]
     },
     "execution_count": 49,
     "metadata": {},
     "output_type": "execute_result"
    },
    {
     "data": {
      "image/png": "[encoded data removed]",
      "text/plain": [
       "<Figure size 640x480 with 1 Axes>"
      ]
     },
     "metadata": {},
     "output_type": "display_data"
    }
   ],
   "source": [
    "sns.lineplot(x=df2['publish_time'].dt.year,y=df2['days_to_trend'])\n",
    "plt.xticks([2016,2017,2018])\n",
    "plt.ylabel('Number of days to get Trending')"
   ]
  },
  {
   "cell_type": "markdown",
   "id": "84b2f471",
   "metadata": {},
   "source": [
    "## Channels having multiple trending videos and how many times?¶"
   ]
  },
  {
   "cell_type": "code",
   "execution_count": 23,
   "id": "d5f5d8d6",
   "metadata": {},
   "outputs": [
    {
     "name": "stdout",
     "output_type": "stream",
     "text": [
      "channel_title\n",
      "SET India             192\n",
      "MSNBC                 189\n",
      "FBE                   188\n",
      "The Young Turks       186\n",
      "REACT                 183\n",
      "                     ... \n",
      "TV NL                   2\n",
      "Get Into Film           2\n",
      "GenoSamuel2             2\n",
      "Gefari Productions      2\n",
      "The Best Fails          2\n",
      "Name: channel_title, Length: 3382, dtype: int64\n"
     ]
    }
   ],
   "source": [
    "counts_by_channel = df.groupby('channel_title')['channel_title'].count()\n",
    "multi_trending_channels = counts_by_channel[counts_by_channel > 1].sort_values(ascending=False)\n",
    "print(multi_trending_channels)"
   ]
  },
  {
   "cell_type": "markdown",
   "id": "fbffa437",
   "metadata": {},
   "source": [
    "SET India is the top Youtube channel having multiple trending videos more times."
   ]
  },
  {
   "cell_type": "markdown",
   "id": "d9747f0b",
   "metadata": {},
   "source": [
    "## Analysis around likes, views, comments, etc "
   ]
  },
  {
   "cell_type": "code",
   "execution_count": 41,
   "id": "2cacac5d",
   "metadata": {},
   "outputs": [
    {
     "name": "stdout",
     "output_type": "stream",
     "text": [
      "              views         likes      dislikes  comment_count\n",
      "count  4.088100e+04  4.088100e+04  4.088100e+04   4.088100e+04\n",
      "mean   1.147036e+06  3.958269e+04  2.009195e+03   5.042975e+03\n",
      "std    3.390913e+06  1.326895e+05  1.900837e+04   2.157902e+04\n",
      "min    7.330000e+02  0.000000e+00  0.000000e+00   0.000000e+00\n",
      "25%    1.439020e+05  2.191000e+03  9.900000e+01   4.170000e+02\n",
      "50%    3.712040e+05  8.780000e+03  3.030000e+02   1.301000e+03\n",
      "75%    9.633020e+05  2.871700e+04  9.500000e+02   3.713000e+03\n",
      "max    1.378431e+08  5.053338e+06  1.602383e+06   1.114800e+06\n"
     ]
    },
    {
     "data": {
      "image/png": "[encoded data removed]",
      "text/plain": [
       "<Figure size 640x480 with 2 Axes>"
      ]
     },
     "metadata": {},
     "output_type": "display_data"
    }
   ],
   "source": [
    "print(df[['views', 'likes', 'dislikes','comment_count']].describe())\n",
    "\n",
    "# Correlation matrix\n",
    "corr_matrix = df[['views', 'likes', 'dislikes','comment_count']].corr()\n",
    "sns.heatmap(corr_matrix, annot=True)\n",
    "plt.show()"
   ]
  },
  {
   "cell_type": "markdown",
   "id": "0acd8301",
   "metadata": {},
   "source": [
    "All the 4 varibales Views,likes,dislikes and comment count are positivly correlated. It means that as one variable increases, the others also tend to increase."
   ]
  }
 ],
 "metadata": {
  "kernelspec": {
   "display_name": "Python 3 (ipykernel)",
   "language": "python",
   "name": "python3"
  },
  "language_info": {
   "codemirror_mode": {
    "name": "ipython",
    "version": 3
   },
   "file_extension": ".py",
   "mimetype": "text/x-python",
   "name": "python",
   "nbconvert_exporter": "python",
   "pygments_lexer": "ipython3",
   "version": "3.10.9"
  }
 },
 "nbformat": 4,
 "nbformat_minor": 5
}
