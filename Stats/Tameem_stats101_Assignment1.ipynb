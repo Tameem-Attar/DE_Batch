{
  "cells": [
    {
      "cell_type": "code",
      "execution_count": 3,
      "id": "fec7cb38",
      "metadata": {
        "id": "fec7cb38"
      },
      "outputs": [],
      "source": [
        "import numpy as np\n",
        "import pandas as pd\n",
        "import matplotlib.pyplot as plt\n",
        "import seaborn as sns"
      ]
    },
    {
      "cell_type": "code",
      "execution_count": 4,
      "id": "8d9ed57f",
      "metadata": {
        "id": "8d9ed57f"
      },
      "outputs": [],
      "source": [
        "video=pd.read_csv('/content/Videos3.csv')"
      ]
    },
    {
      "cell_type": "code",
      "execution_count": 5,
      "id": "66930c29",
      "metadata": {
        "colab": {
          "base_uri": "https://localhost:8080/",
          "height": 398
        },
        "id": "66930c29",
        "outputId": "6772bbc8-6a79-4171-bccb-cfa644159205"
      },
      "outputs": [
        {
          "output_type": "execute_result",
          "data": {
            "text/plain": [
              "      video_id trending_date                                          title  \\\n",
              "0  Jw1Y-zhQURU      17.14.11  John Lewis Christmas Ad 2017 - #MozTheMonster   \n",
              "1  3s1rvMFUweQ      17.14.11      Taylor Swift: …Ready for It? (Live) - SNL   \n",
              "2  n1WpP7iowLc      17.14.11     Eminem - Walk On Water (Audio) ft. Beyoncé   \n",
              "\n",
              "         channel_title  category_id              publish_time  \\\n",
              "0           John Lewis           26  2017-11-10T07:38:29.000Z   \n",
              "1  Saturday Night Live           24  2017-11-12T06:24:44.000Z   \n",
              "2           EminemVEVO           10  2017-11-10T17:00:03.000Z   \n",
              "\n",
              "                                                tags     views   likes  \\\n",
              "0  christmas|\"john lewis christmas\"|\"john lewis\"|...   7224515   55681   \n",
              "1  SNL|\"Saturday Night Live\"|\"SNL Season 43\"|\"Epi...   1053632   25561   \n",
              "2  Eminem|\"Walk\"|\"On\"|\"Water\"|\"Aftermath/Shady/In...  17158579  787420   \n",
              "\n",
              "   dislikes  comment_count                                  thumbnail_link  \\\n",
              "0     10247           9479  https://i.ytimg.com/vi/Jw1Y-zhQURU/default.jpg   \n",
              "1      2294           2757  https://i.ytimg.com/vi/3s1rvMFUweQ/default.jpg   \n",
              "2     43420         125882  https://i.ytimg.com/vi/n1WpP7iowLc/default.jpg   \n",
              "\n",
              "   comments_disabled  ratings_disabled  video_error_or_removed  \\\n",
              "0              False             False                   False   \n",
              "1              False             False                   False   \n",
              "2              False             False                   False   \n",
              "\n",
              "                                         description  \n",
              "0  Click here to continue the story and make your...  \n",
              "1  Musical guest Taylor Swift performs …Ready for...  \n",
              "2  Eminem's new track Walk on Water ft. Beyoncé i...  "
            ],
            "text/html": [
              "\n",
              "  <div id=\"df-0d2ccb0a-2d80-4cbe-ad0b-eb5ec678bdf4\">\n",
              "    <div class=\"colab-df-container\">\n",
              "      <div>\n",
              "<style scoped>\n",
              "    .dataframe tbody tr th:only-of-type {\n",
              "        vertical-align: middle;\n",
              "    }\n",
              "\n",
              "    .dataframe tbody tr th {\n",
              "        vertical-align: top;\n",
              "    }\n",
              "\n",
              "    .dataframe thead th {\n",
              "        text-align: right;\n",
              "    }\n",
              "</style>\n",
              "<table border=\"1\" class=\"dataframe\">\n",
              "  <thead>\n",
              "    <tr style=\"text-align: right;\">\n",
              "      <th></th>\n",
              "      <th>video_id</th>\n",
              "      <th>trending_date</th>\n",
              "      <th>title</th>\n",
              "      <th>channel_title</th>\n",
              "      <th>category_id</th>\n",
              "      <th>publish_time</th>\n",
              "      <th>tags</th>\n",
              "      <th>views</th>\n",
              "      <th>likes</th>\n",
              "      <th>dislikes</th>\n",
              "      <th>comment_count</th>\n",
              "      <th>thumbnail_link</th>\n",
              "      <th>comments_disabled</th>\n",
              "      <th>ratings_disabled</th>\n",
              "      <th>video_error_or_removed</th>\n",
              "      <th>description</th>\n",
              "    </tr>\n",
              "  </thead>\n",
              "  <tbody>\n",
              "    <tr>\n",
              "      <th>0</th>\n",
              "      <td>Jw1Y-zhQURU</td>\n",
              "      <td>17.14.11</td>\n",
              "      <td>John Lewis Christmas Ad 2017 - #MozTheMonster</td>\n",
              "      <td>John Lewis</td>\n",
              "      <td>26</td>\n",
              "      <td>2017-11-10T07:38:29.000Z</td>\n",
              "      <td>christmas|\"john lewis christmas\"|\"john lewis\"|...</td>\n",
              "      <td>7224515</td>\n",
              "      <td>55681</td>\n",
              "      <td>10247</td>\n",
              "      <td>9479</td>\n",
              "      <td>https://i.ytimg.com/vi/Jw1Y-zhQURU/default.jpg</td>\n",
              "      <td>False</td>\n",
              "      <td>False</td>\n",
              "      <td>False</td>\n",
              "      <td>Click here to continue the story and make your...</td>\n",
              "    </tr>\n",
              "    <tr>\n",
              "      <th>1</th>\n",
              "      <td>3s1rvMFUweQ</td>\n",
              "      <td>17.14.11</td>\n",
              "      <td>Taylor Swift: …Ready for It? (Live) - SNL</td>\n",
              "      <td>Saturday Night Live</td>\n",
              "      <td>24</td>\n",
              "      <td>2017-11-12T06:24:44.000Z</td>\n",
              "      <td>SNL|\"Saturday Night Live\"|\"SNL Season 43\"|\"Epi...</td>\n",
              "      <td>1053632</td>\n",
              "      <td>25561</td>\n",
              "      <td>2294</td>\n",
              "      <td>2757</td>\n",
              "      <td>https://i.ytimg.com/vi/3s1rvMFUweQ/default.jpg</td>\n",
              "      <td>False</td>\n",
              "      <td>False</td>\n",
              "      <td>False</td>\n",
              "      <td>Musical guest Taylor Swift performs …Ready for...</td>\n",
              "    </tr>\n",
              "    <tr>\n",
              "      <th>2</th>\n",
              "      <td>n1WpP7iowLc</td>\n",
              "      <td>17.14.11</td>\n",
              "      <td>Eminem - Walk On Water (Audio) ft. Beyoncé</td>\n",
              "      <td>EminemVEVO</td>\n",
              "      <td>10</td>\n",
              "      <td>2017-11-10T17:00:03.000Z</td>\n",
              "      <td>Eminem|\"Walk\"|\"On\"|\"Water\"|\"Aftermath/Shady/In...</td>\n",
              "      <td>17158579</td>\n",
              "      <td>787420</td>\n",
              "      <td>43420</td>\n",
              "      <td>125882</td>\n",
              "      <td>https://i.ytimg.com/vi/n1WpP7iowLc/default.jpg</td>\n",
              "      <td>False</td>\n",
              "      <td>False</td>\n",
              "      <td>False</td>\n",
              "      <td>Eminem's new track Walk on Water ft. Beyoncé i...</td>\n",
              "    </tr>\n",
              "  </tbody>\n",
              "</table>\n",
              "</div>\n",
              "      <button class=\"colab-df-convert\" onclick=\"convertToInteractive('df-0d2ccb0a-2d80-4cbe-ad0b-eb5ec678bdf4')\"\n",
              "              title=\"Convert this dataframe to an interactive table.\"\n",
              "              style=\"display:none;\">\n",
              "        \n",
              "  <svg xmlns=\"http://www.w3.org/2000/svg\" height=\"24px\"viewBox=\"0 0 24 24\"\n",
              "       width=\"24px\">\n",
              "    <path d=\"M0 0h24v24H0V0z\" fill=\"none\"/>\n",
              "    <path d=\"M18.56 5.44l.94 2.06.94-2.06 2.06-.94-2.06-.94-.94-2.06-.94 2.06-2.06.94zm-11 1L8.5 8.5l.94-2.06 2.06-.94-2.06-.94L8.5 2.5l-.94 2.06-2.06.94zm10 10l.94 2.06.94-2.06 2.06-.94-2.06-.94-.94-2.06-.94 2.06-2.06.94z\"/><path d=\"M17.41 7.96l-1.37-1.37c-.4-.4-.92-.59-1.43-.59-.52 0-1.04.2-1.43.59L10.3 9.45l-7.72 7.72c-.78.78-.78 2.05 0 2.83L4 21.41c.39.39.9.59 1.41.59.51 0 1.02-.2 1.41-.59l7.78-7.78 2.81-2.81c.8-.78.8-2.07 0-2.86zM5.41 20L4 18.59l7.72-7.72 1.47 1.35L5.41 20z\"/>\n",
              "  </svg>\n",
              "      </button>\n",
              "      \n",
              "  <style>\n",
              "    .colab-df-container {\n",
              "      display:flex;\n",
              "      flex-wrap:wrap;\n",
              "      gap: 12px;\n",
              "    }\n",
              "\n",
              "    .colab-df-convert {\n",
              "      background-color: #E8F0FE;\n",
              "      border: none;\n",
              "      border-radius: 50%;\n",
              "      cursor: pointer;\n",
              "      display: none;\n",
              "      fill: #1967D2;\n",
              "      height: 32px;\n",
              "      padding: 0 0 0 0;\n",
              "      width: 32px;\n",
              "    }\n",
              "\n",
              "    .colab-df-convert:hover {\n",
              "      background-color: #E2EBFA;\n",
              "      box-shadow: 0px 1px 2px rgba(60, 64, 67, 0.3), 0px 1px 3px 1px rgba(60, 64, 67, 0.15);\n",
              "      fill: #174EA6;\n",
              "    }\n",
              "\n",
              "    [theme=dark] .colab-df-convert {\n",
              "      background-color: #3B4455;\n",
              "      fill: #D2E3FC;\n",
              "    }\n",
              "\n",
              "    [theme=dark] .colab-df-convert:hover {\n",
              "      background-color: #434B5C;\n",
              "      box-shadow: 0px 1px 3px 1px rgba(0, 0, 0, 0.15);\n",
              "      filter: drop-shadow(0px 1px 2px rgba(0, 0, 0, 0.3));\n",
              "      fill: #FFFFFF;\n",
              "    }\n",
              "  </style>\n",
              "\n",
              "      <script>\n",
              "        const buttonEl =\n",
              "          document.querySelector('#df-0d2ccb0a-2d80-4cbe-ad0b-eb5ec678bdf4 button.colab-df-convert');\n",
              "        buttonEl.style.display =\n",
              "          google.colab.kernel.accessAllowed ? 'block' : 'none';\n",
              "\n",
              "        async function convertToInteractive(key) {\n",
              "          const element = document.querySelector('#df-0d2ccb0a-2d80-4cbe-ad0b-eb5ec678bdf4');\n",
              "          const dataTable =\n",
              "            await google.colab.kernel.invokeFunction('convertToInteractive',\n",
              "                                                     [key], {});\n",
              "          if (!dataTable) return;\n",
              "\n",
              "          const docLinkHtml = 'Like what you see? Visit the ' +\n",
              "            '<a target=\"_blank\" href=https://colab.research.google.com/notebooks/data_table.ipynb>data table notebook</a>'\n",
              "            + ' to learn more about interactive tables.';\n",
              "          element.innerHTML = '';\n",
              "          dataTable['output_type'] = 'display_data';\n",
              "          await google.colab.output.renderOutput(dataTable, element);\n",
              "          const docLink = document.createElement('div');\n",
              "          docLink.innerHTML = docLinkHtml;\n",
              "          element.appendChild(docLink);\n",
              "        }\n",
              "      </script>\n",
              "    </div>\n",
              "  </div>\n",
              "  "
            ]
          },
          "metadata": {},
          "execution_count": 5
        }
      ],
      "source": [
        "video.head(3)"
      ]
    },
    {
      "cell_type": "code",
      "execution_count": 6,
      "id": "7743c5d6",
      "metadata": {
        "colab": {
          "base_uri": "https://localhost:8080/"
        },
        "id": "7743c5d6",
        "outputId": "1fa1bb72-096a-4306-de8a-010847c98a3c"
      },
      "outputs": [
        {
          "output_type": "stream",
          "name": "stdout",
          "text": [
            "<class 'pandas.core.frame.DataFrame'>\n",
            "RangeIndex: 38916 entries, 0 to 38915\n",
            "Data columns (total 16 columns):\n",
            " #   Column                  Non-Null Count  Dtype \n",
            "---  ------                  --------------  ----- \n",
            " 0   video_id                38916 non-null  object\n",
            " 1   trending_date           38916 non-null  object\n",
            " 2   title                   38916 non-null  object\n",
            " 3   channel_title           38916 non-null  object\n",
            " 4   category_id             38916 non-null  int64 \n",
            " 5   publish_time            38916 non-null  object\n",
            " 6   tags                    38916 non-null  object\n",
            " 7   views                   38916 non-null  int64 \n",
            " 8   likes                   38916 non-null  int64 \n",
            " 9   dislikes                38916 non-null  int64 \n",
            " 10  comment_count           38916 non-null  int64 \n",
            " 11  thumbnail_link          38916 non-null  object\n",
            " 12  comments_disabled       38916 non-null  bool  \n",
            " 13  ratings_disabled        38916 non-null  bool  \n",
            " 14  video_error_or_removed  38916 non-null  bool  \n",
            " 15  description             38304 non-null  object\n",
            "dtypes: bool(3), int64(5), object(8)\n",
            "memory usage: 4.0+ MB\n"
          ]
        }
      ],
      "source": [
        "#How long does it take for the video to get trending\n",
        "video.info()"
      ]
    },
    {
      "cell_type": "markdown",
      "id": "a08c4657",
      "metadata": {
        "id": "a08c4657"
      },
      "source": [
        "Cleaning Date time format"
      ]
    },
    {
      "cell_type": "code",
      "execution_count": 7,
      "id": "73f4e55f",
      "metadata": {
        "id": "73f4e55f"
      },
      "outputs": [],
      "source": [
        "import datetime\n",
        "from datetime import datetime"
      ]
    },
    {
      "cell_type": "code",
      "execution_count": 8,
      "id": "e053a49c",
      "metadata": {
        "colab": {
          "base_uri": "https://localhost:8080/"
        },
        "id": "e053a49c",
        "outputId": "8c57c9c6-4b3d-4f4e-ca5e-498e08bef290"
      },
      "outputs": [
        {
          "output_type": "execute_result",
          "data": {
            "text/plain": [
              "0        17.14.11\n",
              "1        17.14.11\n",
              "2        17.14.11\n",
              "3        17.14.11\n",
              "4        17.14.11\n",
              "           ...   \n",
              "38911    18.14.06\n",
              "38912    18.14.06\n",
              "38913    18.14.06\n",
              "38914    18.14.06\n",
              "38915    18.14.06\n",
              "Name: trending_date, Length: 38916, dtype: object"
            ]
          },
          "metadata": {},
          "execution_count": 8
        }
      ],
      "source": [
        "video['trending_date']"
      ]
    },
    {
      "cell_type": "code",
      "execution_count": 9,
      "id": "c76284a7",
      "metadata": {
        "id": "c76284a7"
      },
      "outputs": [],
      "source": [
        "video['trending_date']=video['trending_date'].map(lambda x:datetime.strptime(x, '%y.%d.%m'))"
      ]
    },
    {
      "cell_type": "code",
      "execution_count": 10,
      "id": "37636ab0",
      "metadata": {
        "id": "37636ab0"
      },
      "outputs": [],
      "source": [
        "video['publish_time']=video['publish_time'].map(lambda x: x.split('T')[0]).map(lambda x:datetime.strptime(x, '%Y-%m-%d'))"
      ]
    },
    {
      "cell_type": "code",
      "execution_count": 11,
      "id": "b234c7ce",
      "metadata": {
        "id": "b234c7ce"
      },
      "outputs": [],
      "source": [
        "video['publish_time']=pd.to_datetime(video['publish_time'])"
      ]
    },
    {
      "cell_type": "code",
      "execution_count": 12,
      "id": "d0b970fc",
      "metadata": {
        "id": "d0b970fc"
      },
      "outputs": [],
      "source": [
        "trending_duration=(video['trending_date']-video['publish_time']).dt.days"
      ]
    },
    {
      "cell_type": "markdown",
      "id": "bf77ec96",
      "metadata": {
        "id": "bf77ec96"
      },
      "source": [
        "checking distribution of views"
      ]
    },
    {
      "cell_type": "code",
      "execution_count": 13,
      "id": "b7d2ee7d",
      "metadata": {
        "colab": {
          "base_uri": "https://localhost:8080/",
          "height": 282
        },
        "id": "b7d2ee7d",
        "outputId": "34dc3850-feff-4995-ecbf-e7a5bdd73827"
      },
      "outputs": [
        {
          "output_type": "execute_result",
          "data": {
            "text/plain": [
              "<Axes: ylabel='Density'>"
            ]
          },
          "metadata": {},
          "execution_count": 13
        },
        {
          "output_type": "display_data",
          "data": {
            "text/plain": [
              "<Figure size 432x288 with 1 Axes>"
            ],
            "image/png": "[encoded data removed]"
          },
          "metadata": {
            "needs_background": "light"
          }
        }
      ],
      "source": [
        "sns.kdeplot(trending_duration,color=\"Green\")"
      ]
    },
    {
      "cell_type": "code",
      "execution_count": 14,
      "id": "31763029",
      "metadata": {
        "colab": {
          "base_uri": "https://localhost:8080/"
        },
        "id": "31763029",
        "outputId": "ad8d94c7-e4cd-4499-9135-1c08147b71a5"
      },
      "outputs": [
        {
          "output_type": "stream",
          "name": "stdout",
          "text": [
            "Average time in days for video to get trending is 37.0\n",
            "Median of trending duration is 10.0\n"
          ]
        }
      ],
      "source": [
        "print('Average time in days for video to get trending is {}'.format(np.ceil(trending_duration.mean())))\n",
        "print('Median of trending duration is',(trending_duration).median())"
      ]
    },
    {
      "cell_type": "code",
      "execution_count": 15,
      "id": "abb625be",
      "metadata": {
        "colab": {
          "base_uri": "https://localhost:8080/"
        },
        "id": "abb625be",
        "outputId": "e495c715-3321-4b61-b711-8ebcd0e29c67"
      },
      "outputs": [
        {
          "output_type": "execute_result",
          "data": {
            "text/plain": [
              "38916"
            ]
          },
          "metadata": {},
          "execution_count": 15
        }
      ],
      "source": [
        "len(trending_duration)#total videos uploaded"
      ]
    },
    {
      "cell_type": "code",
      "execution_count": 16,
      "id": "d48a3a1c",
      "metadata": {
        "colab": {
          "base_uri": "https://localhost:8080/"
        },
        "id": "d48a3a1c",
        "outputId": "4966910d-5490-4231-8842-2f8067a4439f"
      },
      "outputs": [
        {
          "output_type": "execute_result",
          "data": {
            "text/plain": [
              "33609"
            ]
          },
          "metadata": {},
          "execution_count": 16
        }
      ],
      "source": [
        "len(trending_duration[trending_duration>3]) #to videos which started trending more than 3 days of publishing"
      ]
    },
    {
      "cell_type": "code",
      "execution_count": 17,
      "id": "40c45a8e",
      "metadata": {
        "id": "40c45a8e"
      },
      "outputs": [],
      "source": [
        "#So on an average it takes 37 days for video to get trending but most of the videos took more then 3 days to get trending"
      ]
    },
    {
      "cell_type": "code",
      "execution_count": 18,
      "id": "71227b4f",
      "metadata": {
        "id": "71227b4f"
      },
      "outputs": [],
      "source": [
        "#Q2.How is this duration changes across the two years"
      ]
    },
    {
      "cell_type": "code",
      "execution_count": 19,
      "id": "3fc6b4fb",
      "metadata": {
        "colab": {
          "base_uri": "https://localhost:8080/"
        },
        "id": "3fc6b4fb",
        "outputId": "c18d0a80-cdeb-41bb-b364-10ba99bb4236"
      },
      "outputs": [
        {
          "output_type": "execute_result",
          "data": {
            "text/plain": [
              "2018    27374\n",
              "2017    11037\n",
              "2015       93\n",
              "2011       85\n",
              "2014       66\n",
              "2013       62\n",
              "2016       58\n",
              "2008       43\n",
              "2007       37\n",
              "2010       34\n",
              "2012       14\n",
              "2009       13\n",
              "Name: publish_time, dtype: int64"
            ]
          },
          "metadata": {},
          "execution_count": 19
        }
      ],
      "source": [
        "video['publish_time'].dt.year.value_counts()"
      ]
    },
    {
      "cell_type": "code",
      "execution_count": 20,
      "id": "fb7e3715",
      "metadata": {
        "id": "fb7e3715"
      },
      "outputs": [],
      "source": [
        "past_two_year=video['publish_time'].dt.year[video['publish_time'].dt.year>2015] #filtering videos published after 2016"
      ]
    },
    {
      "cell_type": "code",
      "execution_count": 21,
      "id": "3bd7581f",
      "metadata": {
        "colab": {
          "base_uri": "https://localhost:8080/",
          "height": 298
        },
        "id": "3bd7581f",
        "outputId": "b30ed5a3-ada3-4a56-b69b-f5f1bba6c870"
      },
      "outputs": [
        {
          "output_type": "execute_result",
          "data": {
            "text/plain": [
              "Text(0, 0.5, 'Number of days to get Trending')"
            ]
          },
          "metadata": {},
          "execution_count": 21
        },
        {
          "output_type": "display_data",
          "data": {
            "text/plain": [
              "<Figure size 432x288 with 1 Axes>"
            ],
            "image/png": "[encoded data removed]"
          },
          "metadata": {
            "needs_background": "light"
          }
        }
      ],
      "source": [
        "sns.lineplot(x=past_two_year,y=trending_duration,color=\"Green\")\n",
        "plt.xticks([2016,2017,2018,])\n",
        "plt.ylabel('Number of days to get Trending')"
      ]
    },
    {
      "cell_type": "markdown",
      "id": "a6061d57",
      "metadata": {
        "id": "a6061d57"
      },
      "source": [
        "we can observe drastic dicline in the duration required for video to get trending from 2016 to 2018"
      ]
    },
    {
      "cell_type": "code",
      "execution_count": 22,
      "id": "072a6394",
      "metadata": {
        "id": "072a6394"
      },
      "outputs": [],
      "source": [
        "#Q3.Channels having multiple trending videos and how many times"
      ]
    },
    {
      "cell_type": "code",
      "execution_count": 23,
      "id": "ae83064c",
      "metadata": {
        "id": "ae83064c"
      },
      "outputs": [],
      "source": [
        "trending_by_channel=video['channel_title'].value_counts()#number of videos uploaded by each channel"
      ]
    },
    {
      "cell_type": "code",
      "execution_count": 24,
      "id": "1e3cf5c0",
      "metadata": {
        "colab": {
          "base_uri": "https://localhost:8080/",
          "height": 282
        },
        "id": "1e3cf5c0",
        "outputId": "eeec00cd-717c-4148-ff36-f0e40decb3d6"
      },
      "outputs": [
        {
          "output_type": "execute_result",
          "data": {
            "text/plain": [
              "<Axes: >"
            ]
          },
          "metadata": {},
          "execution_count": 24
        },
        {
          "output_type": "display_data",
          "data": {
            "text/plain": [
              "<Figure size 432x288 with 1 Axes>"
            ],
            "image/png": "[encoded data removed]"
          },
          "metadata": {
            "needs_background": "light"
          }
        }
      ],
      "source": [
        "sns.barplot(y=trending_by_channel[trending_by_channel>1].head(12).index,\n",
        "            x=trending_by_channel[trending_by_channel>1].head(12).values,color='Green')"
      ]
    },
    {
      "cell_type": "markdown",
      "id": "3889a134",
      "metadata": {
        "id": "3889a134"
      },
      "source": [
        "The 'Tonight show starring jimmy fallon' Channel and'Jimmy kimmel live' has highest trending videos followed by 'The Ellen Show'."
      ]
    },
    {
      "cell_type": "code",
      "execution_count": 25,
      "id": "b3500522",
      "metadata": {
        "id": "b3500522"
      },
      "outputs": [],
      "source": [
        "#Analysing views and comment"
      ]
    },
    {
      "cell_type": "code",
      "execution_count": 26,
      "id": "924a9bb0",
      "metadata": {
        "colab": {
          "base_uri": "https://localhost:8080/",
          "height": 308
        },
        "id": "924a9bb0",
        "outputId": "51f636aa-c0c3-451e-d9a4-0772ebb5ea20"
      },
      "outputs": [
        {
          "output_type": "execute_result",
          "data": {
            "text/plain": [
              "<Axes: xlabel='comment_count', ylabel='views'>"
            ]
          },
          "metadata": {},
          "execution_count": 26
        },
        {
          "output_type": "display_data",
          "data": {
            "text/plain": [
              "<Figure size 432x288 with 1 Axes>"
            ],
            "image/png": "[encoded data removed]"
          },
          "metadata": {
            "needs_background": "light"
          }
        }
      ],
      "source": [
        "sns.scatterplot(y=video['views'],x=video['comment_count'],color=\"Green\")"
      ]
    },
    {
      "cell_type": "code",
      "execution_count": 27,
      "id": "1bfcb815",
      "metadata": {
        "id": "1bfcb815"
      },
      "outputs": [],
      "source": [
        "#Comments are not contributing that much for views "
      ]
    },
    {
      "cell_type": "code",
      "execution_count": 28,
      "id": "645a8584",
      "metadata": {
        "colab": {
          "base_uri": "https://localhost:8080/",
          "height": 307
        },
        "id": "645a8584",
        "outputId": "4fcd6af8-d2b6-4ba9-bc66-f997595564fb"
      },
      "outputs": [
        {
          "output_type": "execute_result",
          "data": {
            "text/plain": [
              "<Axes: xlabel='likes', ylabel='views'>"
            ]
          },
          "metadata": {},
          "execution_count": 28
        },
        {
          "output_type": "display_data",
          "data": {
            "text/plain": [
              "<Figure size 432x288 with 1 Axes>"
            ],
            "image/png": "[encoded data removed]"
          },
          "metadata": {
            "needs_background": "light"
          }
        }
      ],
      "source": [
        "sns.scatterplot(y=video['views'],x=video['likes'],color=\"Green\")"
      ]
    },
    {
      "cell_type": "markdown",
      "id": "eb302c6f",
      "metadata": {
        "id": "eb302c6f"
      },
      "source": [
        "Views increase with more likes "
      ]
    },
    {
      "cell_type": "code",
      "execution_count": 29,
      "id": "7bf76ea8",
      "metadata": {
        "colab": {
          "base_uri": "https://localhost:8080/",
          "height": 283
        },
        "id": "7bf76ea8",
        "outputId": "3e99a881-f98d-41af-9b75-231419c87fef"
      },
      "outputs": [
        {
          "output_type": "execute_result",
          "data": {
            "text/plain": [
              "<Axes: >"
            ]
          },
          "metadata": {},
          "execution_count": 29
        },
        {
          "output_type": "display_data",
          "data": {
            "text/plain": [
              "<Figure size 432x288 with 2 Axes>"
            ],
            "image/png": "[encoded data removed]"
          },
          "metadata": {
            "needs_background": "light"
          }
        }
      ],
      "source": [
        "sns.heatmap(video[['views','likes','dislikes','comment_count']].corr(),cmap='Greens',annot=True,\n",
        "           mask=np.triu(video[['views','likes','dislikes','comment_count']].corr()))"
      ]
    },
    {
      "cell_type": "code",
      "execution_count": 30,
      "id": "848a295d",
      "metadata": {
        "id": "848a295d"
      },
      "outputs": [],
      "source": [
        "#"
      ]
    },
    {
      "cell_type": "code",
      "execution_count": 31,
      "id": "758d53ba",
      "metadata": {
        "colab": {
          "base_uri": "https://localhost:8080/",
          "height": 291
        },
        "id": "758d53ba",
        "outputId": "a82df8da-9fe7-47ee-fc31-27456d93d06b"
      },
      "outputs": [
        {
          "output_type": "display_data",
          "data": {
            "text/plain": [
              "<Figure size 432x288 with 1 Axes>"
            ],
            "image/png": "[encoded data removed]"
          },
          "metadata": {
            "needs_background": "light"
          }
        }
      ],
      "source": [
        "video.groupby(by=['category_id'])['views'].mean().sort_values(ascending=False).plot(kind='bar',color=\"Green\")\n",
        "plt.xticks(rotation=360);"
      ]
    },
    {
      "cell_type": "code",
      "execution_count": 32,
      "id": "35a799fe",
      "metadata": {
        "colab": {
          "base_uri": "https://localhost:8080/"
        },
        "id": "35a799fe",
        "outputId": "f218627c-5861-4472-b694-513136878687"
      },
      "outputs": [
        {
          "output_type": "execute_result",
          "data": {
            "text/plain": [
              "10    13754\n",
              "24     9124\n",
              "22     2926\n",
              "1      2577\n",
              "26     1928\n",
              "17     1907\n",
              "23     1828\n",
              "20     1788\n",
              "25     1225\n",
              "15      534\n",
              "28      518\n",
              "27      457\n",
              "2       144\n",
              "19       96\n",
              "29       90\n",
              "43       20\n",
              "Name: category_id, dtype: int64"
            ]
          },
          "metadata": {},
          "execution_count": 32
        }
      ],
      "source": [
        "video['category_id'].value_counts()"
      ]
    },
    {
      "cell_type": "code",
      "execution_count": 32,
      "id": "d3d57cd2",
      "metadata": {
        "id": "d3d57cd2"
      },
      "outputs": [],
      "source": []
    }
  ],
  "metadata": {
    "kernelspec": {
      "display_name": "Python 3 (ipykernel)",
      "language": "python",
      "name": "python3"
    },
    "language_info": {
      "codemirror_mode": {
        "name": "ipython",
        "version": 3
      },
      "file_extension": ".py",
      "mimetype": "text/x-python",
      "name": "python",
      "nbconvert_exporter": "python",
      "pygments_lexer": "ipython3",
      "version": "3.11.2"
    },
    "colab": {
      "provenance": []
    }
  },
  "nbformat": 4,
  "nbformat_minor": 5
}