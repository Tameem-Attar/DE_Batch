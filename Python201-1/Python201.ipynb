{
 "cells": [
  {
   "cell_type": "code",
   "execution_count": 3,
   "id": "0a9753a9",
   "metadata": {},
   "outputs": [
    {
     "name": "stdout",
     "output_type": "stream",
     "text": [
      "File1File2File3File4\n"
     ]
    }
   ],
   "source": [
    "import os\n",
    "\n",
    "file_paths = [\"C:/WORK/Python201/file1.txt\", \"C:/WORK/Python201/file2.txt\", \"C:/WORK/Python201/file3.txt\", \"C:/WORK/Python201/file4.txt\"]\n",
    "\n",
    "data = []\n",
    "\n",
    "for file_path in file_paths:\n",
    "\n",
    "    if not os.path.exists(file_path):\n",
    "\n",
    "        raise FileNotFoundError(f\"No file found for {file_path}\")\n",
    "        \n",
    "    try:\n",
    "\n",
    "        with open(file_path, \"r\") as f:\n",
    "\n",
    "            data.append(f.read())\n",
    "    except:\n",
    "\n",
    "        raise Exception(f\"Error reading file {file_path}\")\n",
    "            \n",
    "\n",
    "output_file = \"output.txt\"\n",
    "\n",
    "try:\n",
    "    with open(output_file, \"w\") as f:\n",
    "        for d in data:\n",
    "            f.write(d)\n",
    "except:\n",
    "    raise Exception(f\"Error writing file {file_path}\")\n",
    "    \n",
    "file=open(\"output.txt\",\"r\")\n",
    "print(file.read())"
   ]
  },
  {
   "cell_type": "code",
   "execution_count": null,
   "id": "22cf927d",
   "metadata": {},
   "outputs": [],
   "source": []
  }
 ],
 "metadata": {
  "kernelspec": {
   "display_name": "Python 3 (ipykernel)",
   "language": "python",
   "name": "python3"
  },
  "language_info": {
   "codemirror_mode": {
    "name": "ipython",
    "version": 3
   },
   "file_extension": ".py",
   "mimetype": "text/x-python",
   "name": "python",
   "nbconvert_exporter": "python",
   "pygments_lexer": "ipython3",
   "version": "3.10.9"
  }
 },
 "nbformat": 4,
 "nbformat_minor": 5
}
